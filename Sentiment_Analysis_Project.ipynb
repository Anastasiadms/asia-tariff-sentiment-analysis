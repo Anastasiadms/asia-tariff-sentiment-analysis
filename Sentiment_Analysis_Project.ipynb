{
  "nbformat": 4,
  "nbformat_minor": 0,
  "metadata": {
    "colab": {
      "provenance": []
    },
    "kernelspec": {
      "name": "python3",
      "display_name": "Python 3"
    },
    "language_info": {
      "name": "python"
    }
  },
  "cells": [
    {
      "cell_type": "markdown",
      "source": [
        "# **Data-Driven Business Insights into Asia’s Economic Outlook on U.S. Tariff Policy**"
      ],
      "metadata": {
        "id": "XaptffKjbm7_"
      }
    },
    {
      "cell_type": "code",
      "execution_count": 25,
      "metadata": {
        "id": "-z4wGPRqbIDw",
        "colab": {
          "base_uri": "https://localhost:8080/"
        },
        "outputId": "db9a3a18-1e24-4cd0-d14a-59eb2a3ba05b"
      },
      "outputs": [
        {
          "output_type": "stream",
          "name": "stdout",
          "text": [
            "Requirement already satisfied: requests in /usr/local/lib/python3.11/dist-packages (2.32.3)\n",
            "Requirement already satisfied: beautifulsoup4 in /usr/local/lib/python3.11/dist-packages (4.13.4)\n",
            "Requirement already satisfied: vaderSentiment in /usr/local/lib/python3.11/dist-packages (3.3.2)\n",
            "Requirement already satisfied: pandas in /usr/local/lib/python3.11/dist-packages (2.2.2)\n",
            "Requirement already satisfied: matplotlib in /usr/local/lib/python3.11/dist-packages (3.10.0)\n",
            "Requirement already satisfied: seaborn in /usr/local/lib/python3.11/dist-packages (0.13.2)\n",
            "Requirement already satisfied: nltk in /usr/local/lib/python3.11/dist-packages (3.9.1)\n",
            "Requirement already satisfied: wordcloud in /usr/local/lib/python3.11/dist-packages (1.9.4)\n",
            "Requirement already satisfied: charset-normalizer<4,>=2 in /usr/local/lib/python3.11/dist-packages (from requests) (3.4.1)\n",
            "Requirement already satisfied: idna<4,>=2.5 in /usr/local/lib/python3.11/dist-packages (from requests) (3.10)\n",
            "Requirement already satisfied: urllib3<3,>=1.21.1 in /usr/local/lib/python3.11/dist-packages (from requests) (2.4.0)\n",
            "Requirement already satisfied: certifi>=2017.4.17 in /usr/local/lib/python3.11/dist-packages (from requests) (2025.4.26)\n",
            "Requirement already satisfied: soupsieve>1.2 in /usr/local/lib/python3.11/dist-packages (from beautifulsoup4) (2.7)\n",
            "Requirement already satisfied: typing-extensions>=4.0.0 in /usr/local/lib/python3.11/dist-packages (from beautifulsoup4) (4.13.2)\n",
            "Requirement already satisfied: numpy>=1.23.2 in /usr/local/lib/python3.11/dist-packages (from pandas) (2.0.2)\n",
            "Requirement already satisfied: python-dateutil>=2.8.2 in /usr/local/lib/python3.11/dist-packages (from pandas) (2.9.0.post0)\n",
            "Requirement already satisfied: pytz>=2020.1 in /usr/local/lib/python3.11/dist-packages (from pandas) (2025.2)\n",
            "Requirement already satisfied: tzdata>=2022.7 in /usr/local/lib/python3.11/dist-packages (from pandas) (2025.2)\n",
            "Requirement already satisfied: contourpy>=1.0.1 in /usr/local/lib/python3.11/dist-packages (from matplotlib) (1.3.2)\n",
            "Requirement already satisfied: cycler>=0.10 in /usr/local/lib/python3.11/dist-packages (from matplotlib) (0.12.1)\n",
            "Requirement already satisfied: fonttools>=4.22.0 in /usr/local/lib/python3.11/dist-packages (from matplotlib) (4.57.0)\n",
            "Requirement already satisfied: kiwisolver>=1.3.1 in /usr/local/lib/python3.11/dist-packages (from matplotlib) (1.4.8)\n",
            "Requirement already satisfied: packaging>=20.0 in /usr/local/lib/python3.11/dist-packages (from matplotlib) (24.2)\n",
            "Requirement already satisfied: pillow>=8 in /usr/local/lib/python3.11/dist-packages (from matplotlib) (11.2.1)\n",
            "Requirement already satisfied: pyparsing>=2.3.1 in /usr/local/lib/python3.11/dist-packages (from matplotlib) (3.2.3)\n",
            "Requirement already satisfied: click in /usr/local/lib/python3.11/dist-packages (from nltk) (8.1.8)\n",
            "Requirement already satisfied: joblib in /usr/local/lib/python3.11/dist-packages (from nltk) (1.4.2)\n",
            "Requirement already satisfied: regex>=2021.8.3 in /usr/local/lib/python3.11/dist-packages (from nltk) (2024.11.6)\n",
            "Requirement already satisfied: tqdm in /usr/local/lib/python3.11/dist-packages (from nltk) (4.67.1)\n",
            "Requirement already satisfied: six>=1.5 in /usr/local/lib/python3.11/dist-packages (from python-dateutil>=2.8.2->pandas) (1.17.0)\n",
            "Requirement already satisfied: streamlit in /usr/local/lib/python3.11/dist-packages (1.45.0)\n",
            "Requirement already satisfied: altair<6,>=4.0 in /usr/local/lib/python3.11/dist-packages (from streamlit) (5.5.0)\n",
            "Requirement already satisfied: blinker<2,>=1.5.0 in /usr/local/lib/python3.11/dist-packages (from streamlit) (1.9.0)\n",
            "Requirement already satisfied: cachetools<6,>=4.0 in /usr/local/lib/python3.11/dist-packages (from streamlit) (5.5.2)\n",
            "Requirement already satisfied: click<9,>=7.0 in /usr/local/lib/python3.11/dist-packages (from streamlit) (8.1.8)\n",
            "Requirement already satisfied: numpy<3,>=1.23 in /usr/local/lib/python3.11/dist-packages (from streamlit) (2.0.2)\n",
            "Requirement already satisfied: packaging<25,>=20 in /usr/local/lib/python3.11/dist-packages (from streamlit) (24.2)\n",
            "Requirement already satisfied: pandas<3,>=1.4.0 in /usr/local/lib/python3.11/dist-packages (from streamlit) (2.2.2)\n",
            "Requirement already satisfied: pillow<12,>=7.1.0 in /usr/local/lib/python3.11/dist-packages (from streamlit) (11.2.1)\n",
            "Requirement already satisfied: protobuf<7,>=3.20 in /usr/local/lib/python3.11/dist-packages (from streamlit) (5.29.4)\n",
            "Requirement already satisfied: pyarrow>=7.0 in /usr/local/lib/python3.11/dist-packages (from streamlit) (18.1.0)\n",
            "Requirement already satisfied: requests<3,>=2.27 in /usr/local/lib/python3.11/dist-packages (from streamlit) (2.32.3)\n",
            "Requirement already satisfied: tenacity<10,>=8.1.0 in /usr/local/lib/python3.11/dist-packages (from streamlit) (9.1.2)\n",
            "Requirement already satisfied: toml<2,>=0.10.1 in /usr/local/lib/python3.11/dist-packages (from streamlit) (0.10.2)\n",
            "Requirement already satisfied: typing-extensions<5,>=4.4.0 in /usr/local/lib/python3.11/dist-packages (from streamlit) (4.13.2)\n",
            "Requirement already satisfied: watchdog<7,>=2.1.5 in /usr/local/lib/python3.11/dist-packages (from streamlit) (6.0.0)\n",
            "Requirement already satisfied: gitpython!=3.1.19,<4,>=3.0.7 in /usr/local/lib/python3.11/dist-packages (from streamlit) (3.1.44)\n",
            "Requirement already satisfied: pydeck<1,>=0.8.0b4 in /usr/local/lib/python3.11/dist-packages (from streamlit) (0.9.1)\n",
            "Requirement already satisfied: tornado<7,>=6.0.3 in /usr/local/lib/python3.11/dist-packages (from streamlit) (6.4.2)\n",
            "Requirement already satisfied: jinja2 in /usr/local/lib/python3.11/dist-packages (from altair<6,>=4.0->streamlit) (3.1.6)\n",
            "Requirement already satisfied: jsonschema>=3.0 in /usr/local/lib/python3.11/dist-packages (from altair<6,>=4.0->streamlit) (4.23.0)\n",
            "Requirement already satisfied: narwhals>=1.14.2 in /usr/local/lib/python3.11/dist-packages (from altair<6,>=4.0->streamlit) (1.37.1)\n",
            "Requirement already satisfied: gitdb<5,>=4.0.1 in /usr/local/lib/python3.11/dist-packages (from gitpython!=3.1.19,<4,>=3.0.7->streamlit) (4.0.12)\n",
            "Requirement already satisfied: python-dateutil>=2.8.2 in /usr/local/lib/python3.11/dist-packages (from pandas<3,>=1.4.0->streamlit) (2.9.0.post0)\n",
            "Requirement already satisfied: pytz>=2020.1 in /usr/local/lib/python3.11/dist-packages (from pandas<3,>=1.4.0->streamlit) (2025.2)\n",
            "Requirement already satisfied: tzdata>=2022.7 in /usr/local/lib/python3.11/dist-packages (from pandas<3,>=1.4.0->streamlit) (2025.2)\n",
            "Requirement already satisfied: charset-normalizer<4,>=2 in /usr/local/lib/python3.11/dist-packages (from requests<3,>=2.27->streamlit) (3.4.1)\n",
            "Requirement already satisfied: idna<4,>=2.5 in /usr/local/lib/python3.11/dist-packages (from requests<3,>=2.27->streamlit) (3.10)\n",
            "Requirement already satisfied: urllib3<3,>=1.21.1 in /usr/local/lib/python3.11/dist-packages (from requests<3,>=2.27->streamlit) (2.4.0)\n",
            "Requirement already satisfied: certifi>=2017.4.17 in /usr/local/lib/python3.11/dist-packages (from requests<3,>=2.27->streamlit) (2025.4.26)\n",
            "Requirement already satisfied: smmap<6,>=3.0.1 in /usr/local/lib/python3.11/dist-packages (from gitdb<5,>=4.0.1->gitpython!=3.1.19,<4,>=3.0.7->streamlit) (5.0.2)\n",
            "Requirement already satisfied: MarkupSafe>=2.0 in /usr/local/lib/python3.11/dist-packages (from jinja2->altair<6,>=4.0->streamlit) (3.0.2)\n",
            "Requirement already satisfied: attrs>=22.2.0 in /usr/local/lib/python3.11/dist-packages (from jsonschema>=3.0->altair<6,>=4.0->streamlit) (25.3.0)\n",
            "Requirement already satisfied: jsonschema-specifications>=2023.03.6 in /usr/local/lib/python3.11/dist-packages (from jsonschema>=3.0->altair<6,>=4.0->streamlit) (2025.4.1)\n",
            "Requirement already satisfied: referencing>=0.28.4 in /usr/local/lib/python3.11/dist-packages (from jsonschema>=3.0->altair<6,>=4.0->streamlit) (0.36.2)\n",
            "Requirement already satisfied: rpds-py>=0.7.1 in /usr/local/lib/python3.11/dist-packages (from jsonschema>=3.0->altair<6,>=4.0->streamlit) (0.24.0)\n",
            "Requirement already satisfied: six>=1.5 in /usr/local/lib/python3.11/dist-packages (from python-dateutil>=2.8.2->pandas<3,>=1.4.0->streamlit) (1.17.0)\n"
          ]
        }
      ],
      "source": [
        "!pip install requests beautifulsoup4 vaderSentiment pandas matplotlib seaborn nltk wordcloud\n",
        "!pip install streamlit"
      ]
    },
    {
      "cell_type": "code",
      "source": [
        "import requests\n",
        "import pandas as pd\n",
        "import matplotlib.pyplot as plt\n",
        "import seaborn as sns\n",
        "import nltk\n",
        "import string\n",
        "import time\n",
        "import streamlit as st\n",
        "from bs4 import BeautifulSoup\n",
        "from vaderSentiment.vaderSentiment import SentimentIntensityAnalyzer\n",
        "from collections import Counter\n",
        "from wordcloud import WordCloud"
      ],
      "metadata": {
        "id": "ahQ56OhQTi-X"
      },
      "execution_count": 56,
      "outputs": []
    },
    {
      "cell_type": "code",
      "source": [
        "# Setup NLTK\n",
        "nltk.download('stopwords')\n",
        "stop_words = set(nltk.corpus.stopwords.words('english'))"
      ],
      "metadata": {
        "colab": {
          "base_uri": "https://localhost:8080/"
        },
        "id": "nxWwKDHzT4Oh",
        "outputId": "ce4e161c-18ee-4027-9734-f9b10b18d271"
      },
      "execution_count": 57,
      "outputs": [
        {
          "output_type": "stream",
          "name": "stderr",
          "text": [
            "[nltk_data] Downloading package stopwords to /root/nltk_data...\n",
            "[nltk_data]   Package stopwords is already up-to-date!\n"
          ]
        }
      ]
    },
    {
      "cell_type": "code",
      "source": [
        "# Use User-Agents rotate (different browser signature for each request) so it hard to detect our web scraper\n",
        "user_agentsrot = [\n",
        "    \"Mozilla/5.0 (Windows NT 10.0; Win64; x64) AppleWebKit/537.36 Chrome/120.0\",\n",
        "    \"Mozilla/5.0 (Macintosh; Intel Mac OS X 10_15_7) AppleWebKit/605.1.15 Safari/537.36\",\n",
        "    \"Mozilla/5.0 (X11; Linux x86_64) Gecko/20100101 Firefox/112.0\",\n",
        "    \"Mozilla/5.0 (Windows NT 10.0; Win64; x64; rv:106.0) Gecko/20100101 Firefox/106.0\"\n",
        "]\n",
        "\n",
        "def get_random_headers():\n",
        "    return {\n",
        "        \"User-Agent\": random.choice(user_agentsrot),\n",
        "        \"Accept-Language\": \"en-US,en;q=0.9\",\n",
        "        \"Referer\": \"https://www.google.com/\",\n",
        "        \"Connection\": \"keep-alive\"\n",
        "    }"
      ],
      "metadata": {
        "id": "4EO4CspPYVLP"
      },
      "execution_count": 58,
      "outputs": []
    },
    {
      "cell_type": "code",
      "source": [
        "# Web Scraping for Aljazeera\n",
        "def get_aljazeera_links():\n",
        "    base_urls = [\n",
        "        \"https://www.aljazeera.com/news/asia-pacific\",\n",
        "        \"https://www.aljazeera.com/economy\",\n",
        "        \"https://www.aljazeera.com/tag/us-china-trade-war\"\n",
        "    ]\n",
        "\n",
        "    all_links = []\n",
        "    for base_url in base_urls:\n",
        "        for page in range(1, 4):  # up to 3 pages per section\n",
        "            url = base_url + f\"/?page={page}\"\n",
        "            try:\n",
        "                res = requests.get(url, headers=get_random_headers())\n",
        "                soup = BeautifulSoup(res.text, 'html.parser')\n",
        "                raw_links = [\n",
        "                    \"https://www.aljazeera.com\" + a['href']\n",
        "                    for a in soup.find_all('a', href=True)\n",
        "                    if a['href'].startswith('/news/') and \"live\" not in a['href']\n",
        "                ]\n",
        "                filtered = [\n",
        "                    link for link in raw_links\n",
        "                    if any(k in link.lower() for k in [\"asia\", \"economy\", \"tariff\", \"trade\", \"us\", \"china\"])\n",
        "                ]\n",
        "                all_links.extend(filtered)\n",
        "            except Exception as e:\n",
        "                print(f\"Error scraping {url}: {e}\")\n",
        "\n",
        "    return list(set(all_links))[:100]"
      ],
      "metadata": {
        "id": "TZIkqWoEZAKW"
      },
      "execution_count": 61,
      "outputs": []
    },
    {
      "cell_type": "code",
      "source": [
        "def get_cnn_links():\n",
        "    url = \"https://edition.cnn.com/world/asia\"\n",
        "    res = requests.get(url, headers=get_random_headers())\n",
        "    soup = BeautifulSoup(res.text, 'html.parser')\n",
        "\n",
        "    raw_links = [\n",
        "        \"https://edition.cnn.com\" + a['href']\n",
        "        for a in soup.find_all('a', href=True)\n",
        "        if a['href'].startswith(\"/\") and \"/videos\" not in a['href'] and \"/live-news\" not in a['href']\n",
        "    ]\n",
        "\n",
        "    filtered_links = [\n",
        "        link for link in raw_links\n",
        "        if any(k in link.lower() for k in [\"asia\", \"economy\", \"tariff\", \"trade\", \"us\", \"china\"])\n",
        "    ]\n",
        "\n",
        "    return list(set(filtered_links))[:50]"
      ],
      "metadata": {
        "id": "hMK5W3liZHAL"
      },
      "execution_count": 62,
      "outputs": []
    },
    {
      "cell_type": "code",
      "source": [
        "def extract_article_text(url):\n",
        "    try:\n",
        "        res = requests.get(url, headers=get_random_headers(), timeout=10)\n",
        "        soup = BeautifulSoup(res.text, 'html.parser')\n",
        "        title = soup.title.get_text() if soup.title else \"\"\n",
        "        paragraphs = soup.find_all('p')\n",
        "        body = \" \".join(p.get_text() for p in paragraphs)\n",
        "        return title + \"\\n\" + body\n",
        "    except:\n",
        "        return \"\""
      ],
      "metadata": {
        "id": "Qe4y4lDPZZgZ"
      },
      "execution_count": 63,
      "outputs": []
    },
    {
      "cell_type": "code",
      "source": [
        "#Sentiment Analysis\n",
        "def analyze_articles(links, source_name):\n",
        "    analyzer = SentimentIntensityAnalyzer()\n",
        "    keywords = [\"tariff\", \"trade\", \"import\", \"export\", \"us\", \"u.s.\", \"sanction\", \"economy\", \"china\"]\n",
        "    results = []\n",
        "\n",
        "    for link in links:\n",
        "        text = extract_article_text(link)\n",
        "        if len(text.strip().split()) < 100:\n",
        "            continue\n",
        "        keyword_hits = sum(1 for k in keywords if k in text.lower())\n",
        "        if keyword_hits < 1:\n",
        "            continue\n",
        "        sentiment = analyzer.polarity_scores(text)\n",
        "        results.append({\n",
        "            \"Source\": source_name,\n",
        "            \"URL\": link,\n",
        "            \"Content\": text,\n",
        "            \"Compound\": sentiment['compound'],\n",
        "            \"Positive\": sentiment['pos'],\n",
        "            \"Neutral\": sentiment['neu'],\n",
        "            \"Negative\": sentiment['neg']\n",
        "        })\n",
        "\n",
        "    return results"
      ],
      "metadata": {
        "id": "Gc3cv4hCZsLA"
      },
      "execution_count": 64,
      "outputs": []
    },
    {
      "cell_type": "code",
      "source": [
        "# Run the Analysis based on the data that we got after the web scraping\n",
        "cnn_data = analyze_articles(get_cnn_links(), \"CNN\")\n",
        "aljazeera_data = analyze_articles(get_aljazeera_links(), \"Al Jazeera\")\n",
        "\n",
        "# Combine\n",
        "final_data = pd.DataFrame(cnn_data + aljazeera_data)\n",
        "final_data.to_csv(\"sentiment_scores.csv\", index=False)\n",
        "final_data.head()"
      ],
      "metadata": {
        "colab": {
          "base_uri": "https://localhost:8080/",
          "height": 467
        },
        "id": "2_dUvnT3Z0mi",
        "outputId": "3c8bc26d-2c87-46e8-8da9-4cfe395b8a6f"
      },
      "execution_count": 65,
      "outputs": [
        {
          "output_type": "execute_result",
          "data": {
            "text/plain": [
              "  Source                                                URL  \\\n",
              "0    CNN  https://edition.cnn.com/2025/05/05/asia/japan-...   \n",
              "1    CNN  https://edition.cnn.com/2025/04/22/asia/gunmen...   \n",
              "2    CNN  https://edition.cnn.com/2025/05/02/asia/singap...   \n",
              "3    CNN  https://edition.cnn.com/2025/03/28/india/india...   \n",
              "4    CNN  https://edition.cnn.com/2025/04/28/europe/ukra...   \n",
              "\n",
              "                                             Content  Compound  Positive  \\\n",
              "0  Japan’s former Emperor Akihito to be hospitali...    0.9201     0.081   \n",
              "1  Pahalgam, India: At least 26 people killed as ...   -0.9998     0.056   \n",
              "2  Singapore votes in test of ruling party’s mono...    0.9950     0.156   \n",
              "3  India among top suppliers of illicit fentanyl ...    0.9702     0.087   \n",
              "4  Putin thanks North Korea for help in Kursk, as...    0.9593     0.079   \n",
              "\n",
              "   Neutral  Negative  \n",
              "0    0.899     0.020  \n",
              "1    0.767     0.178  \n",
              "2    0.775     0.068  \n",
              "3    0.861     0.052  \n",
              "4    0.864     0.057  "
            ],
            "text/html": [
              "\n",
              "  <div id=\"df-74b6112c-7ca2-4623-8758-8d2ac3e602db\" class=\"colab-df-container\">\n",
              "    <div>\n",
              "<style scoped>\n",
              "    .dataframe tbody tr th:only-of-type {\n",
              "        vertical-align: middle;\n",
              "    }\n",
              "\n",
              "    .dataframe tbody tr th {\n",
              "        vertical-align: top;\n",
              "    }\n",
              "\n",
              "    .dataframe thead th {\n",
              "        text-align: right;\n",
              "    }\n",
              "</style>\n",
              "<table border=\"1\" class=\"dataframe\">\n",
              "  <thead>\n",
              "    <tr style=\"text-align: right;\">\n",
              "      <th></th>\n",
              "      <th>Source</th>\n",
              "      <th>URL</th>\n",
              "      <th>Content</th>\n",
              "      <th>Compound</th>\n",
              "      <th>Positive</th>\n",
              "      <th>Neutral</th>\n",
              "      <th>Negative</th>\n",
              "    </tr>\n",
              "  </thead>\n",
              "  <tbody>\n",
              "    <tr>\n",
              "      <th>0</th>\n",
              "      <td>CNN</td>\n",
              "      <td>https://edition.cnn.com/2025/05/05/asia/japan-...</td>\n",
              "      <td>Japan’s former Emperor Akihito to be hospitali...</td>\n",
              "      <td>0.9201</td>\n",
              "      <td>0.081</td>\n",
              "      <td>0.899</td>\n",
              "      <td>0.020</td>\n",
              "    </tr>\n",
              "    <tr>\n",
              "      <th>1</th>\n",
              "      <td>CNN</td>\n",
              "      <td>https://edition.cnn.com/2025/04/22/asia/gunmen...</td>\n",
              "      <td>Pahalgam, India: At least 26 people killed as ...</td>\n",
              "      <td>-0.9998</td>\n",
              "      <td>0.056</td>\n",
              "      <td>0.767</td>\n",
              "      <td>0.178</td>\n",
              "    </tr>\n",
              "    <tr>\n",
              "      <th>2</th>\n",
              "      <td>CNN</td>\n",
              "      <td>https://edition.cnn.com/2025/05/02/asia/singap...</td>\n",
              "      <td>Singapore votes in test of ruling party’s mono...</td>\n",
              "      <td>0.9950</td>\n",
              "      <td>0.156</td>\n",
              "      <td>0.775</td>\n",
              "      <td>0.068</td>\n",
              "    </tr>\n",
              "    <tr>\n",
              "      <th>3</th>\n",
              "      <td>CNN</td>\n",
              "      <td>https://edition.cnn.com/2025/03/28/india/india...</td>\n",
              "      <td>India among top suppliers of illicit fentanyl ...</td>\n",
              "      <td>0.9702</td>\n",
              "      <td>0.087</td>\n",
              "      <td>0.861</td>\n",
              "      <td>0.052</td>\n",
              "    </tr>\n",
              "    <tr>\n",
              "      <th>4</th>\n",
              "      <td>CNN</td>\n",
              "      <td>https://edition.cnn.com/2025/04/28/europe/ukra...</td>\n",
              "      <td>Putin thanks North Korea for help in Kursk, as...</td>\n",
              "      <td>0.9593</td>\n",
              "      <td>0.079</td>\n",
              "      <td>0.864</td>\n",
              "      <td>0.057</td>\n",
              "    </tr>\n",
              "  </tbody>\n",
              "</table>\n",
              "</div>\n",
              "    <div class=\"colab-df-buttons\">\n",
              "\n",
              "  <div class=\"colab-df-container\">\n",
              "    <button class=\"colab-df-convert\" onclick=\"convertToInteractive('df-74b6112c-7ca2-4623-8758-8d2ac3e602db')\"\n",
              "            title=\"Convert this dataframe to an interactive table.\"\n",
              "            style=\"display:none;\">\n",
              "\n",
              "  <svg xmlns=\"http://www.w3.org/2000/svg\" height=\"24px\" viewBox=\"0 -960 960 960\">\n",
              "    <path d=\"M120-120v-720h720v720H120Zm60-500h600v-160H180v160Zm220 220h160v-160H400v160Zm0 220h160v-160H400v160ZM180-400h160v-160H180v160Zm440 0h160v-160H620v160ZM180-180h160v-160H180v160Zm440 0h160v-160H620v160Z\"/>\n",
              "  </svg>\n",
              "    </button>\n",
              "\n",
              "  <style>\n",
              "    .colab-df-container {\n",
              "      display:flex;\n",
              "      gap: 12px;\n",
              "    }\n",
              "\n",
              "    .colab-df-convert {\n",
              "      background-color: #E8F0FE;\n",
              "      border: none;\n",
              "      border-radius: 50%;\n",
              "      cursor: pointer;\n",
              "      display: none;\n",
              "      fill: #1967D2;\n",
              "      height: 32px;\n",
              "      padding: 0 0 0 0;\n",
              "      width: 32px;\n",
              "    }\n",
              "\n",
              "    .colab-df-convert:hover {\n",
              "      background-color: #E2EBFA;\n",
              "      box-shadow: 0px 1px 2px rgba(60, 64, 67, 0.3), 0px 1px 3px 1px rgba(60, 64, 67, 0.15);\n",
              "      fill: #174EA6;\n",
              "    }\n",
              "\n",
              "    .colab-df-buttons div {\n",
              "      margin-bottom: 4px;\n",
              "    }\n",
              "\n",
              "    [theme=dark] .colab-df-convert {\n",
              "      background-color: #3B4455;\n",
              "      fill: #D2E3FC;\n",
              "    }\n",
              "\n",
              "    [theme=dark] .colab-df-convert:hover {\n",
              "      background-color: #434B5C;\n",
              "      box-shadow: 0px 1px 3px 1px rgba(0, 0, 0, 0.15);\n",
              "      filter: drop-shadow(0px 1px 2px rgba(0, 0, 0, 0.3));\n",
              "      fill: #FFFFFF;\n",
              "    }\n",
              "  </style>\n",
              "\n",
              "    <script>\n",
              "      const buttonEl =\n",
              "        document.querySelector('#df-74b6112c-7ca2-4623-8758-8d2ac3e602db button.colab-df-convert');\n",
              "      buttonEl.style.display =\n",
              "        google.colab.kernel.accessAllowed ? 'block' : 'none';\n",
              "\n",
              "      async function convertToInteractive(key) {\n",
              "        const element = document.querySelector('#df-74b6112c-7ca2-4623-8758-8d2ac3e602db');\n",
              "        const dataTable =\n",
              "          await google.colab.kernel.invokeFunction('convertToInteractive',\n",
              "                                                    [key], {});\n",
              "        if (!dataTable) return;\n",
              "\n",
              "        const docLinkHtml = 'Like what you see? Visit the ' +\n",
              "          '<a target=\"_blank\" href=https://colab.research.google.com/notebooks/data_table.ipynb>data table notebook</a>'\n",
              "          + ' to learn more about interactive tables.';\n",
              "        element.innerHTML = '';\n",
              "        dataTable['output_type'] = 'display_data';\n",
              "        await google.colab.output.renderOutput(dataTable, element);\n",
              "        const docLink = document.createElement('div');\n",
              "        docLink.innerHTML = docLinkHtml;\n",
              "        element.appendChild(docLink);\n",
              "      }\n",
              "    </script>\n",
              "  </div>\n",
              "\n",
              "\n",
              "    <div id=\"df-1bc4fac3-b3b5-4a30-b231-21eb6faa61bc\">\n",
              "      <button class=\"colab-df-quickchart\" onclick=\"quickchart('df-1bc4fac3-b3b5-4a30-b231-21eb6faa61bc')\"\n",
              "                title=\"Suggest charts\"\n",
              "                style=\"display:none;\">\n",
              "\n",
              "<svg xmlns=\"http://www.w3.org/2000/svg\" height=\"24px\"viewBox=\"0 0 24 24\"\n",
              "     width=\"24px\">\n",
              "    <g>\n",
              "        <path d=\"M19 3H5c-1.1 0-2 .9-2 2v14c0 1.1.9 2 2 2h14c1.1 0 2-.9 2-2V5c0-1.1-.9-2-2-2zM9 17H7v-7h2v7zm4 0h-2V7h2v10zm4 0h-2v-4h2v4z\"/>\n",
              "    </g>\n",
              "</svg>\n",
              "      </button>\n",
              "\n",
              "<style>\n",
              "  .colab-df-quickchart {\n",
              "      --bg-color: #E8F0FE;\n",
              "      --fill-color: #1967D2;\n",
              "      --hover-bg-color: #E2EBFA;\n",
              "      --hover-fill-color: #174EA6;\n",
              "      --disabled-fill-color: #AAA;\n",
              "      --disabled-bg-color: #DDD;\n",
              "  }\n",
              "\n",
              "  [theme=dark] .colab-df-quickchart {\n",
              "      --bg-color: #3B4455;\n",
              "      --fill-color: #D2E3FC;\n",
              "      --hover-bg-color: #434B5C;\n",
              "      --hover-fill-color: #FFFFFF;\n",
              "      --disabled-bg-color: #3B4455;\n",
              "      --disabled-fill-color: #666;\n",
              "  }\n",
              "\n",
              "  .colab-df-quickchart {\n",
              "    background-color: var(--bg-color);\n",
              "    border: none;\n",
              "    border-radius: 50%;\n",
              "    cursor: pointer;\n",
              "    display: none;\n",
              "    fill: var(--fill-color);\n",
              "    height: 32px;\n",
              "    padding: 0;\n",
              "    width: 32px;\n",
              "  }\n",
              "\n",
              "  .colab-df-quickchart:hover {\n",
              "    background-color: var(--hover-bg-color);\n",
              "    box-shadow: 0 1px 2px rgba(60, 64, 67, 0.3), 0 1px 3px 1px rgba(60, 64, 67, 0.15);\n",
              "    fill: var(--button-hover-fill-color);\n",
              "  }\n",
              "\n",
              "  .colab-df-quickchart-complete:disabled,\n",
              "  .colab-df-quickchart-complete:disabled:hover {\n",
              "    background-color: var(--disabled-bg-color);\n",
              "    fill: var(--disabled-fill-color);\n",
              "    box-shadow: none;\n",
              "  }\n",
              "\n",
              "  .colab-df-spinner {\n",
              "    border: 2px solid var(--fill-color);\n",
              "    border-color: transparent;\n",
              "    border-bottom-color: var(--fill-color);\n",
              "    animation:\n",
              "      spin 1s steps(1) infinite;\n",
              "  }\n",
              "\n",
              "  @keyframes spin {\n",
              "    0% {\n",
              "      border-color: transparent;\n",
              "      border-bottom-color: var(--fill-color);\n",
              "      border-left-color: var(--fill-color);\n",
              "    }\n",
              "    20% {\n",
              "      border-color: transparent;\n",
              "      border-left-color: var(--fill-color);\n",
              "      border-top-color: var(--fill-color);\n",
              "    }\n",
              "    30% {\n",
              "      border-color: transparent;\n",
              "      border-left-color: var(--fill-color);\n",
              "      border-top-color: var(--fill-color);\n",
              "      border-right-color: var(--fill-color);\n",
              "    }\n",
              "    40% {\n",
              "      border-color: transparent;\n",
              "      border-right-color: var(--fill-color);\n",
              "      border-top-color: var(--fill-color);\n",
              "    }\n",
              "    60% {\n",
              "      border-color: transparent;\n",
              "      border-right-color: var(--fill-color);\n",
              "    }\n",
              "    80% {\n",
              "      border-color: transparent;\n",
              "      border-right-color: var(--fill-color);\n",
              "      border-bottom-color: var(--fill-color);\n",
              "    }\n",
              "    90% {\n",
              "      border-color: transparent;\n",
              "      border-bottom-color: var(--fill-color);\n",
              "    }\n",
              "  }\n",
              "</style>\n",
              "\n",
              "      <script>\n",
              "        async function quickchart(key) {\n",
              "          const quickchartButtonEl =\n",
              "            document.querySelector('#' + key + ' button');\n",
              "          quickchartButtonEl.disabled = true;  // To prevent multiple clicks.\n",
              "          quickchartButtonEl.classList.add('colab-df-spinner');\n",
              "          try {\n",
              "            const charts = await google.colab.kernel.invokeFunction(\n",
              "                'suggestCharts', [key], {});\n",
              "          } catch (error) {\n",
              "            console.error('Error during call to suggestCharts:', error);\n",
              "          }\n",
              "          quickchartButtonEl.classList.remove('colab-df-spinner');\n",
              "          quickchartButtonEl.classList.add('colab-df-quickchart-complete');\n",
              "        }\n",
              "        (() => {\n",
              "          let quickchartButtonEl =\n",
              "            document.querySelector('#df-1bc4fac3-b3b5-4a30-b231-21eb6faa61bc button');\n",
              "          quickchartButtonEl.style.display =\n",
              "            google.colab.kernel.accessAllowed ? 'block' : 'none';\n",
              "        })();\n",
              "      </script>\n",
              "    </div>\n",
              "\n",
              "    </div>\n",
              "  </div>\n"
            ],
            "application/vnd.google.colaboratory.intrinsic+json": {
              "type": "dataframe",
              "variable_name": "final_data",
              "summary": "{\n  \"name\": \"final_data\",\n  \"rows\": 45,\n  \"fields\": [\n    {\n      \"column\": \"Source\",\n      \"properties\": {\n        \"dtype\": \"category\",\n        \"num_unique_values\": 2,\n        \"samples\": [\n          \"Al Jazeera\",\n          \"CNN\"\n        ],\n        \"semantic_type\": \"\",\n        \"description\": \"\"\n      }\n    },\n    {\n      \"column\": \"URL\",\n      \"properties\": {\n        \"dtype\": \"string\",\n        \"num_unique_values\": 45,\n        \"samples\": [\n          \"https://www.aljazeera.com/news/2025/5/5/storm-kills-10-in-china-as-tourist-boats-capsize\",\n          \"https://edition.cnn.com/2013/11/08/asia/kashmir-fast-facts\"\n        ],\n        \"semantic_type\": \"\",\n        \"description\": \"\"\n      }\n    },\n    {\n      \"column\": \"Content\",\n      \"properties\": {\n        \"dtype\": \"string\",\n        \"num_unique_values\": 45,\n        \"samples\": [\n          \"Storm kills 10 in China as tourist boats capsize | Tourism News | Al Jazeera\\nNoting string of fatal incidents, President Xi Jinping calls for stronger safety measures for tourism and public events. A\\u00a0sudden storm in southwestern China\\u2019s Guizhou province has capsized four boats, killing 10 people and injuring 70. More than 80 people fell into the water, state media reported on Monday, when the rain and hailstorm struck the vessels on a stretch of the Wu River near Qianxi City on Sunday afternoon. Rescue operations ran overnight. Initial reports said nine people had died, with one person missing. However, rescue personnel discovered the missing person, who \\u201cshowed no signs of life\\u201d, around noon, state broadcaster CCTV reported. In one video shared by state media, a man could be seen performing CPR on a person, while one of the vessels drifted upside-down. Initial reports suggested two tourist vessels had capsized. However, CCTV later confirmed that four boats were involved \\u2013 two of which were not carrying passengers at the time \\u2013 in the incident, which occurred on the upper reaches of the waterway, which is a tributary of the Yangtze River, China\\u2019s longest. The seven crew members on board the two vessels, carrying no passengers, managed to swim to safety, the broadcaster said. A witness interviewed by the state-owned Beijing News said some passengers managed to swim to safety after the storm had descended rapidly, and thick mist obscured visibility on the river.      According to CCTV, the boats involved were not overloaded. Each had a maximum capacity of 40 passengers. Provincial authorities dispatched some 500 emergency personnel to lead the rescue operation. President Xi Jinping called for \\u201call-out efforts\\u201d in the search and rescue operations and treatment of those injured, state news agency Xinhua said. Xi also \\u201cunderscored the importance of strengthening safety measures in tourist attractions\\u201d and other large public venues, the agency said. He also noted a string of recent fatal incidents across the country. The Wu River, which winds through Guizhou\\u2019s mountainous interior, is a popular destination for domestic tourists, particularly during holidays. China\\u2019s May Day holiday, from May 1 to May 5, saw a sharp increase in domestic travel. Government data cited by state media showed that many tourist destinations across the country were overwhelmed by crowds.          Follow Al Jazeera English:\",\n          \"Kashmir Fast Facts | CNN\\n\\n            Here\\u2019s a look at Kashmir, a region in the Himalayan and Karakoram mountain ranges. India, Pakistan and China all claim partial or complete ownership of Kashmir.\\n     \\n            Kashmir is an 86,000-square mile region in the northern part of the Indian subcontinent.  \\n     \\n            India and Pakistan have been fighting over Kashmir since both countries gained their independence in 1947.\\n     \\n            Between 1989 and 2008, more than 47,000 people were killed in separatist violence, according to the Indian government. Some human rights groups and nongovernmental organizations say the death toll is higher.\\n     \\n            Hundreds are still killed every year in separatist violence, according to human rights groups. \\n     \\n            The Line of Control separates Indian and Pakistani-controlled parts of Kashmir. \\n     \\n            India-controlled: One state, called Jammu and Kashmir, makes up the southern and eastern portions of the region. Srinagar is the summer capital city. Jammu (city) is the winter capital. \\n     \\n            Pakistan-controlled: Three areas called Azad Kashmir and Gilgit-Baltistan make up the northern and western portions of the region. The capital of Azad Kashmir is Muzaffarabad.\\n     \\n            China-controlled: One area called Aksai Chin in the northernmost part of the region. \\n     \\nKashmir: India and Pakistan\\u2019s bitter dispute\\n \\n1947 - India and Pakistan gain independence from Great Britain. Kashmir initially decides to remain independent, choosing not to become a part of either Pakistan or India. After militants from Pakistan invade, the Maharaja of Kashmir signs a letter acceding to India. Pakistan does not recognize the letter as a legal document, sparking war.\\n     \\nJanuary 1, 1949 - India and Pakistan agree to withdraw all troops behind a mutually agreed ceasefire line, later known as the Line of Control. \\n     \\n1965 - India and Pakistan go to war again over Kashmir. \\n \\n1989 - Islamic militants begin an uprising in Indian-controlled Kashmir. \\n     \\n1999 - India and Pakistan fight a limited border conflict in Kashmir, after armed invaders cross the Line of Control in the town of Kargil. \\n     \\nJuly 25, 2000 - Hizbul Mujahedeen, a pro-Pakistan Kashmiri militant group, declares a unilateral ceasefire for three months in Jammu and Kashmir. \\n     \\nAugust 8, 2000 - Hizbul Mujahedeen calls off its ceasefire. \\n     \\nMay 23, 2001 - India ends a six-month ceasefire while also inviting Pakistani military ruler, General Pervez Musharraf, to peace talks aimed at ending five decades of hostilities between the two countries. \\n     \\nJuly 14-16, 2001 - Musharraf and Indian Prime Minister Atal Behari Vajpayee meet in Agra, India, for a three-day summit. The talks fail to produce a joint statement on Kashmir. \\n     \\nDecember 20, 2001 - The Indian army deploys troops on its border with Pakistan in the northern states of Kashmir and Punjab after an attack by militants on the Indian Parliament building. Pakistani troops also buildup across the frontier.\\n     \\nJanuary 12, 2002 - Musharraf announces a ban on two Kashmiri militant groups.  \\n     \\nOctober 2002 - Four rounds of polls to choose a new state administration conclude in Indian-controlled Kashmir. About 300-500 people are killed during the election campaign.\\n     \\nNovember 2003 - India agrees to a Pakistani offer of a ceasefire along their borders in the disputed region of Kashmir. The ceasefire goes into effect November 26 and is the first ceasefire in 14 years.\\n     \\nJanuary 4, 2004 - Vajpayee meets with Musharraf in Islamabad. It is their first direct contact in two years.\\n     \\nMarch 28, 2008 - Human rights workers find nearly 1,000 unmarked graves near the Line of Control. Hundreds of protestors in Indian Kashmir later clash with police, demanding an investigation into the graves.\\n     \\nOctober 21, 2008 - India and Pakistan open a trade route for the first time in six decades on the Line of Control. Fruit, clothing and spices are among the items being transported.  \\n     \\nJanuary 14, 2011 - India\\u2019s home secretary announces that India will cut its security forces in Kashmir over the next 12 months.\\n     \\nFebruary 10, 2011 - Pakistan and India agree to resume peace talks that halted after the 2008 Mumbai terror attacks.\\n     \\nJuly 27, 2011 - Pakistani Foreign Minister Hina Rabbani Khar meets with Indian Foreign Minister S.M. Krishna in New Delhi to discuss ways to improve travel and trade across Kashmir. \\n     \\nFebruary 2015 - The Hindu Bharatiya Janata Party (BJP) and the People\\u2019s Democratic Party (PDP,) a regional party backed by the Muslim majority, announce the formation of a coalition government in Indian-controlled Kashmir. This follows five rounds of elections in 2014 without a clear winner and is the first time that the BJP will be part of the governing coalition in the state assembly. The coalition government is sworn in on March 1, 2015.\\n     \\nJanuary 2016 - The death of the chief minister of the Indian state of Jammu and Kashmir, Mufti Mohammad Sayeed, creates tumult within the coalition government. The presumptive successor is Mehbooba Mufti, Sayeed\\u2019s daughter. She declines to take the oath of office, however, as relations fray between the PDP and the BJP. With the power-sharing alliance in crisis, Governor\\u2019s rule is imposed in accordance with the Constitution of Jammu and Kashmir.\\n     \\nApril 4, 2016 - Mehbooba Mufti is sworn in as the first female chief minister of Jammu and Kashmir.\\n     \\nSeptember 18, 2016 - Armed militants enter an Indian army base in the town of Uri and kill 18 soldiers. Several hours later, four militants are killed in a shootout with the Indian army.\\n     \\nSeptember 29, 2016 - Two Pakistani soldiers are killed after clashes with Indian troops on the border.\\n     \\nOctober 2016 - India relocates more than 10,000 people from around the disputed border area as tensions continue to escalate with Pakistan.\\n     \\nNovember 15, 2016 - Raja Farooq Haider, the prime minister of Azad Jammu and Kashmir, says the government has moved 8,000 people to safer places in the wake of ongoing \\u201cIndian shelling,\\u201d and plans are being made to move others. In response, Indian defense spokesman Lt. Col. Manish Mehta tells CNN, \\u201cWe always respond appropriately and effectively whenever there is a ceasefire violation from the Pakistan side.\\u201d\\n     \\nAugust 1, 2017 - Violent protests erupt over the killing of Abu Dujana, the Pakistani commander of the terror group, Lashkar-e-Taiba. \\n     \\nFebruary 14, 2019 - At least 40 are killed when a bomb explodes near a convoy of Indian paramilitary personnel.\\n     \\nFebruary 26, 2019 - Pakistan declares it will retaliate \\u201cat the time and place of its choosing\\u201d after India conducts airstrikes on an alleged terrorist training camp inside Pakistan territory, in the first such incursion by Indian air force planes since the war in 1971.\\n     \\nFebruary 27, 2019 - Pakistan says its air force shot down two Indian fighter jets over Kashmir. India confirms the loss of one plane and says it shot down a Pakistani jet as it responded to the incident. \\n     \\nMarch 1, 2019 - Pakistan announces that it will release an Indian pilot who was being held in custody. \\n \\nAugust 5, 2019 - Tensions between India and Pakistan increase after Indian Prime Minister Narendra Modi announces that India will revoke a constitutional provision giving the state of Jammu and Kashmir autonomy to set its own laws. In the wake of the announcement, widespread communications blackouts are reported in the Muslim majority region.\\n     \\nAugust 6, 2019 - India\\u2019s parliament votes to approve the status change for the state of Jammu and Kashmir. The reorganization bill increases New Delhi\\u2019s authority over the region, changing it from an autonomous state into a union territory. Pakistan responds that the change is illegal. \\u201cIf the world does not act now, if the so-called developed world does not uphold its own laws, then things will go to a place that will damage the whole world,\\u201d says Imran Khan, prime minister of Pakistan.\\n     \\nAugust 7, 2019 - Pakistan announces that diplomatic relations and bilateral trade with India are being suspended. \\n     \\nAugust 8, 2019 - Modi delivers a televised address in which he claims that revoking Kashmir\\u2019s autonomous status will promote stability, reduce corruption and boost the economy. Pakistan\\u2019s foreign minister says the country will remain vigilant but no military options are being considered. The United Nations issues a statement calling on both countries to resolve the issue peacefully while respecting human rights in the region.\\n \\nOctober 31, 2019 - Jammu and Kashmir officially lose statehood status and become two union territories. \\n     \\nMay 19, 2023 - According to Chinese Foreign Ministry spokesperson Wang Wenbin, China will not attend a Group of 20 (G20) meeting in Jammu and Kashmir hosted by India, citing its opposition \\u201cto holding any kind of G20 meetings in disputed territory.\\u201d\\n     \\nApril 22, 2025 - Gunmen kill at least 26 people and injure a dozen others in the disputed Himalayan region of Jammu and Kashmir. All but one of the 26 tourists massacred in the attack are Indian citizens. Despite Pakistan denying that it had any role in the attack, India\\u2019s Foreign Secretary Vikram Misri says in a press conference on April 23 that \\u201ccross-border linkages of the terrorist act\\u201d had been \\u201cbrought out\\u201d during a special meeting of his country\\u2019s security cabinet.\\n     \\u00a9 2025 Cable News Network. A Warner Bros. Discovery Company. All Rights Reserved.  CNN Sans \\u2122 & \\u00a9 2016 Cable News Network.\"\n        ],\n        \"semantic_type\": \"\",\n        \"description\": \"\"\n      }\n    },\n    {\n      \"column\": \"Compound\",\n      \"properties\": {\n        \"dtype\": \"number\",\n        \"std\": 0.9586698668235878,\n        \"min\": -0.9998,\n        \"max\": 0.9994,\n        \"num_unique_values\": 44,\n        \"samples\": [\n          0.9755,\n          -0.9972\n        ],\n        \"semantic_type\": \"\",\n        \"description\": \"\"\n      }\n    },\n    {\n      \"column\": \"Positive\",\n      \"properties\": {\n        \"dtype\": \"number\",\n        \"std\": 0.03428649349763892,\n        \"min\": 0.019,\n        \"max\": 0.188,\n        \"num_unique_values\": 37,\n        \"samples\": [\n          0.048,\n          0.068\n        ],\n        \"semantic_type\": \"\",\n        \"description\": \"\"\n      }\n    },\n    {\n      \"column\": \"Neutral\",\n      \"properties\": {\n        \"dtype\": \"number\",\n        \"std\": 0.05121071541911296,\n        \"min\": 0.727,\n        \"max\": 0.931,\n        \"num_unique_values\": 41,\n        \"samples\": [\n          0.818,\n          0.784\n        ],\n        \"semantic_type\": \"\",\n        \"description\": \"\"\n      }\n    },\n    {\n      \"column\": \"Negative\",\n      \"properties\": {\n        \"dtype\": \"number\",\n        \"std\": 0.04414326996075713,\n        \"min\": 0.002,\n        \"max\": 0.178,\n        \"num_unique_values\": 41,\n        \"samples\": [\n          0.061,\n          0.12\n        ],\n        \"semantic_type\": \"\",\n        \"description\": \"\"\n      }\n    }\n  ]\n}"
            }
          },
          "metadata": {},
          "execution_count": 65
        }
      ]
    },
    {
      "cell_type": "code",
      "source": [
        "#Distribution Plot of The Sentiment\n",
        "plt.figure(figsize=(10, 6))\n",
        "sns.boxplot(data=final_data, x=\"Source\", y=\"Compound\", palette=\"Set2\")\n",
        "plt.title(\"Sentiment Distribution on U.S. Tariffs (Asia Media)\")\n",
        "plt.xlabel(\"News Source\")\n",
        "plt.ylabel(\"Compound Sentiment Score\")\n",
        "plt.grid(True)\n",
        "plt.show()"
      ],
      "metadata": {
        "colab": {
          "base_uri": "https://localhost:8080/",
          "height": 661
        },
        "id": "f82vJLjSaWHm",
        "outputId": "f22dba6c-6c7d-4241-d877-66ddc8d1dc8f"
      },
      "execution_count": 66,
      "outputs": [
        {
          "output_type": "stream",
          "name": "stderr",
          "text": [
            "<ipython-input-66-6527572dcd36>:3: FutureWarning: \n",
            "\n",
            "Passing `palette` without assigning `hue` is deprecated and will be removed in v0.14.0. Assign the `x` variable to `hue` and set `legend=False` for the same effect.\n",
            "\n",
            "  sns.boxplot(data=final_data, x=\"Source\", y=\"Compound\", palette=\"Set2\")\n"
          ]
        },
        {
          "output_type": "display_data",
          "data": {
            "text/plain": [
              "<Figure size 1000x600 with 1 Axes>"
            ],
            "image/png": "[encoded data removed]"
          },
          "metadata": {}
        }
      ]
    },
    {
      "cell_type": "code",
      "source": [
        "print(final_data[\"Source\"].value_counts())\n",
        "final_data = pd.DataFrame(cnn_data + aljazeera_data)"
      ],
      "metadata": {
        "colab": {
          "base_uri": "https://localhost:8080/"
        },
        "id": "BeMLHj29cl8T",
        "outputId": "412bf78c-5f85-4baf-cf7c-8fc1a35d484d"
      },
      "execution_count": 67,
      "outputs": [
        {
          "output_type": "stream",
          "name": "stdout",
          "text": [
            "Source\n",
            "CNN           34\n",
            "Al Jazeera    11\n",
            "Name: count, dtype: int64\n"
          ]
        }
      ]
    },
    {
      "cell_type": "markdown",
      "source": [],
      "metadata": {
        "id": "_Q2eauJoY0oC"
      }
    },
    {
      "cell_type": "code",
      "source": [
        "# Keyword Frequency\n",
        "all_text = \" \".join(final_data[\"Content\"].str.lower())\n",
        "words = all_text.translate(str.maketrans('', '', string.punctuation)).split()\n",
        "filtered_words = [w for w in words if w not in stop_words and len(w) > 3]\n",
        "word_freq = Counter(filtered_words)\n",
        "keyword_df = pd.DataFrame(word_freq.most_common(20), columns=[\"Keyword\", \"Frequency\"])\n",
        "keyword_df.to_csv(\"keyword_freq.csv\", index=False)"
      ],
      "metadata": {
        "id": "lzQEsCVMFABy"
      },
      "execution_count": 68,
      "outputs": []
    },
    {
      "cell_type": "code",
      "source": [
        "app_code = \"\"\"\n",
        "import pandas as pd\n",
        "import matplotlib.pyplot as plt\n",
        "import seaborn as sns\n",
        "import streamlit as st\n",
        "from wordcloud import WordCloud\n",
        "from collections import Counter\n",
        "import string\n",
        "\n",
        "# Load data\n",
        "df = pd.read_csv(\"sentiment_scores.csv\")\n",
        "keyword_df = pd.read_csv(\"keyword_freq.csv\")\n",
        "\n",
        "# Streamlit Page Setup\n",
        "st.set_page_config(page_title=\"Asia’s Economic Outlook on U.S. Tariff Policy\", layout=\"wide\")\n",
        "st.title(\"📈 Data-Driven Business Insights into Asia’s Economic Outlook on U.S. Tariff Policy\")\n",
        "\n",
        "st.markdown(\\\"\\\"\\\"\n",
        "This dashboard analyzes how Asia-based news media frames U.S. tariff policies using sentiment scoring and keyword analysis.\n",
        "It delivers business-relevant insights that reflect **regional market sentiment** and help identify potential risks and opportunities.\n",
        "\\\"\\\"\\\")\n",
        "\n",
        "# Filter by Source\n",
        "sources = st.sidebar.multiselect(\"📌 Filter by Source\", df[\"Source\"].unique(), default=df[\"Source\"].unique())\n",
        "filtered_df = df[df[\"Source\"].isin(sources)]\n",
        "\n",
        "# 1. Sentiment Table\n",
        "st.subheader(\"1. Sentiment Scores\")\n",
        "st.dataframe(filtered_df[[\"Source\", \"URL\", \"Compound\", \"Positive\", \"Neutral\", \"Negative\"]])\n",
        "\n",
        "# 2. Sentiment Boxplot\n",
        "st.subheader(\"2. Sentiment Distribution by Source\")\n",
        "fig1, ax1 = plt.subplots()\n",
        "sns.boxplot(data=filtered_df, x=\"Source\", y=\"Compound\", palette=\"Set2\", ax=ax1)\n",
        "st.pyplot(fig1)\n",
        "\n",
        "# Average Scores Table\n",
        "st.markdown(\"**📊 Average Compound Score per Source**\")\n",
        "st.dataframe(filtered_df.groupby(\"Source\")[\"Compound\"].mean().reset_index())\n",
        "\n",
        "# 3. Keyword Frequency\n",
        "st.subheader(\"3. Top 20 Keywords\")\n",
        "fig2, ax2 = plt.subplots()\n",
        "sns.barplot(data=keyword_df.head(20), x=\"Frequency\", y=\"Keyword\", palette=\"viridis\", ax=ax2)\n",
        "st.pyplot(fig2)\n",
        "\n",
        "# 4. Word Cloud\n",
        "st.subheader(\"4. Word Cloud\")\n",
        "all_text = \" \".join(df[\"Content\"].astype(str)).lower()\n",
        "words = all_text.translate(str.maketrans('', '', string.punctuation)).split()\n",
        "stopwords = set([\n",
        "    \"said\", \"would\", \"could\", \"also\", \"one\", \"new\", \"us\", \"u.s.\", \"get\", \"year\",\n",
        "    \"news\", \"reuters\", \"aljazeera\", \"cnn\", \"say\", \"make\", \"like\", \"may\", \"asia\", \"amp\"\n",
        "])\n",
        "filtered_words = [w for w in words if w not in stopwords and len(w) > 3]\n",
        "word_freq = Counter(filtered_words)\n",
        "wordcloud = WordCloud(width=800, height=400, background_color='white').generate_from_frequencies(dict(word_freq))\n",
        "fig3, ax3 = plt.subplots(figsize=(15, 7))\n",
        "ax3.imshow(wordcloud, interpolation='bilinear')\n",
        "ax3.axis('off')\n",
        "st.pyplot(fig3)\n",
        "\n",
        "\"\"\""
      ],
      "metadata": {
        "id": "I94QhXIVMDlv"
      },
      "execution_count": 79,
      "outputs": []
    },
    {
      "cell_type": "code",
      "source": [
        "# Save to streamlit.py\n",
        "with open(\"streamlit.py\", \"w\") as f:\n",
        "    f.write(app_code)"
      ],
      "metadata": {
        "id": "YEODmOCuMG7j"
      },
      "execution_count": 80,
      "outputs": []
    },
    {
      "cell_type": "code",
      "source": [
        "# Download streamlit.py\n",
        "from google.colab import files\n",
        "files.download(\"streamlit.py\")"
      ],
      "metadata": {
        "colab": {
          "base_uri": "https://localhost:8080/",
          "height": 17
        },
        "id": "92AMDG8IMOxW",
        "outputId": "c8575fec-0bc9-4247-cb43-f45f973e91b7"
      },
      "execution_count": 81,
      "outputs": [
        {
          "output_type": "display_data",
          "data": {
            "text/plain": [
              "<IPython.core.display.Javascript object>"
            ],
            "application/javascript": [
              "\n",
              "    async function download(id, filename, size) {\n",
              "      if (!google.colab.kernel.accessAllowed) {\n",
              "        return;\n",
              "      }\n",
              "      const div = document.createElement('div');\n",
              "      const label = document.createElement('label');\n",
              "      label.textContent = `Downloading \"${filename}\": `;\n",
              "      div.appendChild(label);\n",
              "      const progress = document.createElement('progress');\n",
              "      progress.max = size;\n",
              "      div.appendChild(progress);\n",
              "      document.body.appendChild(div);\n",
              "\n",
              "      const buffers = [];\n",
              "      let downloaded = 0;\n",
              "\n",
              "      const channel = await google.colab.kernel.comms.open(id);\n",
              "      // Send a message to notify the kernel that we're ready.\n",
              "      channel.send({})\n",
              "\n",
              "      for await (const message of channel.messages) {\n",
              "        // Send a message to notify the kernel that we're ready.\n",
              "        channel.send({})\n",
              "        if (message.buffers) {\n",
              "          for (const buffer of message.buffers) {\n",
              "            buffers.push(buffer);\n",
              "            downloaded += buffer.byteLength;\n",
              "            progress.value = downloaded;\n",
              "          }\n",
              "        }\n",
              "      }\n",
              "      const blob = new Blob(buffers, {type: 'application/binary'});\n",
              "      const a = document.createElement('a');\n",
              "      a.href = window.URL.createObjectURL(blob);\n",
              "      a.download = filename;\n",
              "      div.appendChild(a);\n",
              "      a.click();\n",
              "      div.remove();\n",
              "    }\n",
              "  "
            ]
          },
          "metadata": {}
        },
        {
          "output_type": "display_data",
          "data": {
            "text/plain": [
              "<IPython.core.display.Javascript object>"
            ],
            "application/javascript": [
              "download(\"download_ef44e1b6-e607-4e79-9591-a358a260f842\", \"streamlit.py\", 2373)"
            ]
          },
          "metadata": {}
        }
      ]
    }
  ]
}